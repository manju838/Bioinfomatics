{
  "nbformat": 4,
  "nbformat_minor": 0,
  "metadata": {
    "colab": {
      "name": "ELS.ipynb",
      "provenance": [],
      "include_colab_link": true
    },
    "kernelspec": {
      "name": "python3",
      "display_name": "Python 3"
    },
    "language_info": {
      "name": "python"
    }
  },
  "cells": [
    {
      "cell_type": "markdown",
      "metadata": {
        "id": "view-in-github",
        "colab_type": "text"
      },
      "source": [
        "<a href=\"https://colab.research.google.com/github/manju838/Bioinfomatics/blob/main/ELS.ipynb\" target=\"_parent\"><img src=\"https://colab.research.google.com/assets/colab-badge.svg\" alt=\"Open In Colab\"/></a>"
      ]
    },
    {
      "cell_type": "code",
      "metadata": {
        "id": "svBzsMas39NY"
      },
      "source": [
        "def readSequence(filename):\n",
        "  sequence = ''\n",
        "  with open(filename, 'r') as f:\n",
        "    for line in f:\n",
        "      if not line[0] == '>':\n",
        "        sequence += line.rstrip()\n",
        "  return sequence\n"
      ],
      "execution_count": null,
      "outputs": []
    },
    {
      "cell_type": "code",
      "metadata": {
        "colab": {
          "base_uri": "https://localhost:8080/"
        },
        "id": "txwpK-574WBH",
        "outputId": "3dd615cf-c68c-4e90-86cd-6a08e90ac33f"
      },
      "source": [
        "sequence = readSequence('/content/drive/MyDrive/sequence.fasta')\n",
        "print(\"Length of sequence: \" + str(len(sequence)))\n",
        "print(sequence[:100])"
      ],
      "execution_count": null,
      "outputs": [
        {
          "output_type": "stream",
          "text": [
            "Length of sequence: 161108492\n",
            "CACTCACACTTATGGATAGATCAACTAAACAGAAAATTAACAAGGAAAAAAAAAAAAAAAAAAACATGTATCTATAAAGCTCACTAAAGCAAAGCACAGT\n"
          ],
          "name": "stdout"
        }
      ]
    },
    {
      "cell_type": "code",
      "metadata": {
        "colab": {
          "base_uri": "https://localhost:8080/"
        },
        "id": "znarcmurJ6Rc",
        "outputId": "043f48b0-40f2-47e7-eab0-cb68326dcbf6"
      },
      "source": [
        "print(len(sequence[:100]))\n",
        "print(sequence[0])"
      ],
      "execution_count": null,
      "outputs": [
        {
          "output_type": "stream",
          "text": [
            "100\n",
            "C\n"
          ],
          "name": "stdout"
        }
      ]
    },
    {
      "cell_type": "code",
      "metadata": {
        "colab": {
          "base_uri": "https://localhost:8080/"
        },
        "id": "ueeIqFrW-Y3P",
        "outputId": "71821849-042b-4a0f-dbf4-04e85db3493d"
      },
      "source": [
        "print(set(sequence))"
      ],
      "execution_count": null,
      "outputs": [
        {
          "output_type": "stream",
          "text": [
            "{'S', 'T', 'R', 'G', 'K', 'M', 'Y', 'W', 'A', 'N', 'C'}\n"
          ],
          "name": "stdout"
        }
      ]
    },
    {
      "cell_type": "code",
      "metadata": {
        "colab": {
          "base_uri": "https://localhost:8080/"
        },
        "id": "dyn6htKM4WEL",
        "outputId": "62a48774-5d0b-4372-ade2-0f2216e2740f"
      },
      "source": [
        "counts = {'C':0 , 'N':0 , 'W':0 , 'G':0 , 'Y':0 , 'T':0 , 'R':0 , 'A':0 , 'S':0 , 'M':0 , 'K':0 }\n",
        "for base in sequence:\n",
        "  counts[base] +=1\n",
        "print(counts)"
      ],
      "execution_count": null,
      "outputs": [
        {
          "output_type": "stream",
          "text": [
            "{'C': 29885429, 'N': 11541362, 'W': 28527, 'G': 29834369, 'Y': 147468, 'T': 44579192, 'R': 145130, 'A': 44842710, 'S': 32003, 'M': 36297, 'K': 36005}\n"
          ],
          "name": "stdout"
        }
      ]
    },
    {
      "cell_type": "code",
      "metadata": {
        "colab": {
          "base_uri": "https://localhost:8080/"
        },
        "id": "X_9sQYcv4WGz",
        "outputId": "125cfe88-3b74-44c6-cae0-7fbef6b9607d"
      },
      "source": [
        "import collections\n",
        "collections.Counter(sequence)"
      ],
      "execution_count": null,
      "outputs": [
        {
          "output_type": "execute_result",
          "data": {
            "text/plain": [
              "Counter({'A': 44842710,\n",
              "         'C': 29885429,\n",
              "         'G': 29834369,\n",
              "         'K': 36005,\n",
              "         'M': 36297,\n",
              "         'N': 11541362,\n",
              "         'R': 145130,\n",
              "         'S': 32003,\n",
              "         'T': 44579192,\n",
              "         'W': 28527,\n",
              "         'Y': 147468})"
            ]
          },
          "metadata": {
            "tags": []
          },
          "execution_count": 5
        }
      ]
    },
    {
      "cell_type": "code",
      "metadata": {
        "id": "wlmUel3x4WI7"
      },
      "source": [
        "protein_length_min = 44\n",
        "list = []\n",
        "temp = ''"
      ],
      "execution_count": null,
      "outputs": []
    },
    {
      "cell_type": "code",
      "metadata": {
        "id": "Uk6ynPGB4WUq"
      },
      "source": [
        "s = 'AGCTAGSCTRIMJHVVJVFCHVJHBMGHTFTVMCRTFCYTJFMGVGMGVYTVYUBJMVYVYBJMOKPOKMFC'"
      ],
      "execution_count": null,
      "outputs": []
    },
    {
      "cell_type": "code",
      "metadata": {
        "id": "iI1n1HWY4WRe"
      },
      "source": [
        "for i in s:\n",
        "  if(i != 'M'):\n",
        "    temp += i\n",
        "  elif(i == 'M'):\n",
        "    list.append(temp)\n",
        "    temp = ''"
      ],
      "execution_count": null,
      "outputs": []
    },
    {
      "cell_type": "code",
      "metadata": {
        "id": "tv04NudG4Wca",
        "colab": {
          "base_uri": "https://localhost:8080/"
        },
        "outputId": "63566129-ca49-47ca-fdf2-a4fefb838fc6"
      },
      "source": [
        "print(list)"
      ],
      "execution_count": null,
      "outputs": [
        {
          "output_type": "stream",
          "text": [
            "['AGCTAGSCTRI', 'JHVVJVFCHVJHB', 'GHTFTV', 'CRTFCYTJF', 'GVG', 'GVYTVYUBJ', 'VYVYBJ', 'OKPOK']\n"
          ],
          "name": "stdout"
        }
      ]
    },
    {
      "cell_type": "code",
      "metadata": {
        "id": "q18RmAW-4WfM"
      },
      "source": [
        "for i in list:\n",
        "  if(len(i) < 4):\n",
        "    list.remove(i)"
      ],
      "execution_count": null,
      "outputs": []
    },
    {
      "cell_type": "code",
      "metadata": {
        "id": "ioSXfGZl4Whq",
        "colab": {
          "base_uri": "https://localhost:8080/"
        },
        "outputId": "eff9b44c-2e20-491b-a92c-ac44a2bd939c"
      },
      "source": [
        "print(list)"
      ],
      "execution_count": null,
      "outputs": [
        {
          "output_type": "stream",
          "text": [
            "['AGCTAGSCTRI', 'JHVVJVFCHVJHB', 'GHTFTV', 'CRTFCYTJF', 'GVYTVYUBJ', 'VYVYBJ', 'OKPOK']\n"
          ],
          "name": "stdout"
        }
      ]
    },
    {
      "cell_type": "code",
      "metadata": {
        "id": "yuYMXAEX4Wkv"
      },
      "source": [
        "Is this Amino acid sequence or DNA sequence?\n",
        "Should I append M?If yes then what about starting sequence"
      ],
      "execution_count": null,
      "outputs": []
    },
    {
      "cell_type": "code",
      "metadata": {
        "id": "IngYSFyJ4WnI"
      },
      "source": [
        ""
      ],
      "execution_count": null,
      "outputs": []
    },
    {
      "cell_type": "code",
      "metadata": {
        "id": "tCak43cD4WqA"
      },
      "source": [
        ""
      ],
      "execution_count": null,
      "outputs": []
    },
    {
      "cell_type": "code",
      "metadata": {
        "id": "AFePmgPS4WsT"
      },
      "source": [
        ""
      ],
      "execution_count": null,
      "outputs": []
    },
    {
      "cell_type": "code",
      "metadata": {
        "id": "BypCGBBq4Wuq"
      },
      "source": [
        ""
      ],
      "execution_count": null,
      "outputs": []
    },
    {
      "cell_type": "code",
      "metadata": {
        "id": "73SAUIL14Wxi"
      },
      "source": [
        ""
      ],
      "execution_count": null,
      "outputs": []
    },
    {
      "cell_type": "code",
      "metadata": {
        "id": "CbxpPSz64W0K"
      },
      "source": [
        ""
      ],
      "execution_count": null,
      "outputs": []
    },
    {
      "cell_type": "code",
      "metadata": {
        "id": "lbSAppQI4W2y"
      },
      "source": [
        ""
      ],
      "execution_count": null,
      "outputs": []
    },
    {
      "cell_type": "code",
      "metadata": {
        "id": "NLMi7lkL4W5V"
      },
      "source": [
        ""
      ],
      "execution_count": null,
      "outputs": []
    },
    {
      "cell_type": "code",
      "metadata": {
        "id": "N0EoRy2W4W78"
      },
      "source": [
        ""
      ],
      "execution_count": null,
      "outputs": []
    },
    {
      "cell_type": "code",
      "metadata": {
        "id": "X-KoFvEj4W-j"
      },
      "source": [
        ""
      ],
      "execution_count": null,
      "outputs": []
    },
    {
      "cell_type": "code",
      "metadata": {
        "id": "W8t1hIFs4XBD"
      },
      "source": [
        ""
      ],
      "execution_count": null,
      "outputs": []
    },
    {
      "cell_type": "code",
      "metadata": {
        "id": "lIt3_yMU4XDv"
      },
      "source": [
        ""
      ],
      "execution_count": null,
      "outputs": []
    },
    {
      "cell_type": "code",
      "metadata": {
        "id": "n8GUNU6a4XGY"
      },
      "source": [
        ""
      ],
      "execution_count": null,
      "outputs": []
    },
    {
      "cell_type": "code",
      "metadata": {
        "id": "ho_YQady4XJO"
      },
      "source": [
        ""
      ],
      "execution_count": null,
      "outputs": []
    },
    {
      "cell_type": "code",
      "metadata": {
        "id": "jLRxWapq4XL1"
      },
      "source": [
        ""
      ],
      "execution_count": null,
      "outputs": []
    },
    {
      "cell_type": "code",
      "metadata": {
        "id": "QxCosPbn4XOL"
      },
      "source": [
        ""
      ],
      "execution_count": null,
      "outputs": []
    },
    {
      "cell_type": "code",
      "metadata": {
        "id": "8FHRFB1o4XRC"
      },
      "source": [
        ""
      ],
      "execution_count": null,
      "outputs": []
    }
  ]
}